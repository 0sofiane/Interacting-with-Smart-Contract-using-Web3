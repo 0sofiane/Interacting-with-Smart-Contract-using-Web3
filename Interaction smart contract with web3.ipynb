{
 "cells": [
  {
   "cell_type": "markdown",
   "metadata": {},
   "source": [
    "# DM Block Chain : Interaction avec la To Do App en utilisant Web3\n",
    "## KARTOBI Sofiane  \n",
    "\n",
    "### Objectif : Intéragir avec le smart contract de la to do application qui est déployé à travers MetaMask en utilisant le package Web3"
   ]
  },
  {
   "cell_type": "markdown",
   "metadata": {},
   "source": [
    "#### Etape 0 : Installation et préparation\n",
    "- Tout d'abord, on commence par installer le package Web3, j'ai suivi le tuto suivant expliquant cette démarche : https://youtu.be/DsAoff7yudQ?si=JN5Ktz5pTesvTb_p \n",
    "- Il s'est avéré qu'en suivant les étapes de ce tuto, l'installation n'a pas fonctionné (même en reforçant la version du json schema), je recevais un message d'erreur disant que le module \"Crypto\" est inexistant, je l'ai par la suite installé mais ça n'a pas aidé et le même probléme persisté (même en redémarrant la session). Finalement j'ai pu régler cela en changeant la version du kernel de anaconda à python 3.11.4"
   ]
  },
  {
   "cell_type": "code",
   "execution_count": 1,
   "metadata": {},
   "outputs": [
    {
     "name": "stdout",
     "output_type": "stream",
     "text": [
      "Collecting web3\n",
      "  Using cached web3-6.11.4-py3-none-any.whl (1.6 MB)\n",
      "Collecting aiohttp>=3.7.4.post0 (from web3)\n",
      "  Downloading aiohttp-3.9.1-cp311-cp311-win_amd64.whl (364 kB)\n",
      "                                              0.0/364.8 kB ? eta -:--:--\n",
      "     ---                                      30.7/364.8 kB ? eta -:--:--\n",
      "     ----                                  41.0/364.8 kB 487.6 kB/s eta 0:00:01\n",
      "     -----------                            112.6/364.8 kB 1.1 MB/s eta 0:00:01\n",
      "     --------------------                   194.6/364.8 kB 1.1 MB/s eta 0:00:01\n",
      "     ----------------------------           276.5/364.8 kB 1.2 MB/s eta 0:00:01\n",
      "     -------------------------------------  358.4/364.8 kB 1.4 MB/s eta 0:00:01\n",
      "     -------------------------------------- 364.8/364.8 kB 1.3 MB/s eta 0:00:00\n",
      "Collecting eth-abi>=4.0.0 (from web3)\n",
      "  Using cached eth_abi-4.2.1-py3-none-any.whl (28 kB)\n",
      "Collecting eth-account>=0.8.0 (from web3)\n",
      "  Using cached eth_account-0.10.0-py3-none-any.whl (109 kB)\n",
      "Collecting eth-hash[pycryptodome]>=0.5.1 (from web3)\n",
      "  Using cached eth_hash-0.5.2-py3-none-any.whl (8.6 kB)\n",
      "Collecting eth-typing>=3.0.0 (from web3)\n",
      "  Using cached eth_typing-3.5.2-py3-none-any.whl (14 kB)\n",
      "Collecting eth-utils>=2.1.0 (from web3)\n",
      "  Using cached eth_utils-2.3.1-py3-none-any.whl (77 kB)\n",
      "Collecting hexbytes<0.4.0,>=0.1.0 (from web3)\n",
      "  Using cached hexbytes-0.3.1-py3-none-any.whl (5.9 kB)\n",
      "Collecting jsonschema>=4.0.0 (from web3)\n",
      "  Using cached jsonschema-4.20.0-py3-none-any.whl (84 kB)\n",
      "Collecting lru-dict<1.3.0,>=1.1.6 (from web3)\n",
      "  Downloading lru_dict-1.2.0-cp311-cp311-win_amd64.whl (12 kB)\n",
      "Collecting protobuf>=4.21.6 (from web3)\n",
      "  Downloading protobuf-4.25.1-cp310-abi3-win_amd64.whl (413 kB)\n",
      "                                              0.0/413.4 kB ? eta -:--:--\n",
      "                                              0.0/413.4 kB ? eta -:--:--\n",
      "     --                                      30.7/413.4 kB 1.3 MB/s eta 0:00:01\n",
      "     ---                                   41.0/413.4 kB 487.6 kB/s eta 0:00:01\n",
      "     -----                                 61.4/413.4 kB 544.7 kB/s eta 0:00:01\n",
      "     -----                                 61.4/413.4 kB 544.7 kB/s eta 0:00:01\n",
      "     ------                                71.7/413.4 kB 280.5 kB/s eta 0:00:02\n",
      "     ------                                71.7/413.4 kB 280.5 kB/s eta 0:00:02\n",
      "     --------                              92.2/413.4 kB 261.7 kB/s eta 0:00:02\n",
      "     -------------                        153.6/413.4 kB 399.3 kB/s eta 0:00:01\n",
      "     -----------------                    204.8/413.4 kB 479.2 kB/s eta 0:00:01\n",
      "     -----------------                    204.8/413.4 kB 479.2 kB/s eta 0:00:01\n",
      "     -----------------                    204.8/413.4 kB 479.2 kB/s eta 0:00:01\n",
      "     -------------------                  225.3/413.4 kB 382.0 kB/s eta 0:00:01\n",
      "     -------------------                  225.3/413.4 kB 382.0 kB/s eta 0:00:01\n",
      "     --------------------                 235.5/413.4 kB 351.4 kB/s eta 0:00:01\n",
      "     --------------------                 235.5/413.4 kB 351.4 kB/s eta 0:00:01\n",
      "     ----------------------               256.0/413.4 kB 334.8 kB/s eta 0:00:01\n",
      "     ----------------------               256.0/413.4 kB 334.8 kB/s eta 0:00:01\n",
      "     ------------------------             276.5/413.4 kB 321.5 kB/s eta 0:00:01\n",
      "     ------------------------             276.5/413.4 kB 321.5 kB/s eta 0:00:01\n",
      "     ------------------------             286.7/413.4 kB 305.2 kB/s eta 0:00:01\n",
      "     ---------------------------          317.4/413.4 kB 307.2 kB/s eta 0:00:01\n",
      "     --------------------------------     368.6/413.4 kB 342.3 kB/s eta 0:00:01\n",
      "     -----------------------------------  409.6/413.4 kB 365.0 kB/s eta 0:00:01\n",
      "     ------------------------------------ 413.4/413.4 kB 363.5 kB/s eta 0:00:00\n",
      "Collecting requests>=2.16.0 (from web3)\n",
      "  Downloading requests-2.31.0-py3-none-any.whl (62 kB)\n",
      "                                              0.0/62.6 kB ? eta -:--:--\n",
      "     ------                                   10.2/62.6 kB ? eta -:--:--\n",
      "     ------------------                     30.7/62.6 kB 330.3 kB/s eta 0:00:01\n",
      "     ------------------------               41.0/62.6 kB 219.4 kB/s eta 0:00:01\n",
      "     -------------------------------------  61.4/62.6 kB 297.7 kB/s eta 0:00:01\n",
      "     -------------------------------------- 62.6/62.6 kB 279.9 kB/s eta 0:00:00\n",
      "Collecting typing-extensions>=4.0.1 (from web3)\n",
      "  Downloading typing_extensions-4.8.0-py3-none-any.whl (31 kB)\n",
      "Collecting websockets>=10.0.0 (from web3)\n",
      "  Downloading websockets-12.0-cp311-cp311-win_amd64.whl (124 kB)\n",
      "                                              0.0/125.0 kB ? eta -:--:--\n",
      "     ------------                          41.0/125.0 kB 960.0 kB/s eta 0:00:01\n",
      "     ----------------------------------     112.6/125.0 kB 1.1 MB/s eta 0:00:01\n",
      "     -------------------------------------- 125.0/125.0 kB 1.0 MB/s eta 0:00:00\n",
      "Collecting pyunormalize>=15.0.0 (from web3)\n",
      "  Using cached pyunormalize-15.1.0.tar.gz (515 kB)\n",
      "  Installing build dependencies: started\n",
      "  Installing build dependencies: finished with status 'done'\n",
      "  Getting requirements to build wheel: started\n",
      "  Getting requirements to build wheel: finished with status 'done'\n",
      "  Preparing metadata (pyproject.toml): started\n",
      "  Preparing metadata (pyproject.toml): finished with status 'done'\n",
      "Requirement already satisfied: pywin32>=223 in c:\\users\\sofiane\\appdata\\roaming\\python\\python311\\site-packages (from web3) (306)\n",
      "Collecting attrs>=17.3.0 (from aiohttp>=3.7.4.post0->web3)\n",
      "  Using cached attrs-23.1.0-py3-none-any.whl (61 kB)\n",
      "Collecting multidict<7.0,>=4.5 (from aiohttp>=3.7.4.post0->web3)\n",
      "  Downloading multidict-6.0.4-cp311-cp311-win_amd64.whl (28 kB)\n",
      "Collecting yarl<2.0,>=1.0 (from aiohttp>=3.7.4.post0->web3)\n",
      "  Downloading yarl-1.9.4-cp311-cp311-win_amd64.whl (76 kB)\n",
      "                                              0.0/76.7 kB ? eta -:--:--\n",
      "     -----                                    10.2/76.7 kB ? eta -:--:--\n",
      "     ---------------                        30.7/76.7 kB 262.6 kB/s eta 0:00:01\n",
      "     ---------------                        30.7/76.7 kB 262.6 kB/s eta 0:00:01\n",
      "     ---------------                        30.7/76.7 kB 262.6 kB/s eta 0:00:01\n",
      "     ---------------                        30.7/76.7 kB 262.6 kB/s eta 0:00:01\n",
      "     -----------------------------------    71.7/76.7 kB 231.8 kB/s eta 0:00:01\n",
      "     -------------------------------------- 76.7/76.7 kB 223.8 kB/s eta 0:00:00\n",
      "Collecting frozenlist>=1.1.1 (from aiohttp>=3.7.4.post0->web3)\n",
      "  Downloading frozenlist-1.4.0-cp311-cp311-win_amd64.whl (44 kB)\n",
      "                                              0.0/44.9 kB ? eta -:--:--\n",
      "     ---------------------------------------- 44.9/44.9 kB 2.3 MB/s eta 0:00:00\n",
      "Collecting aiosignal>=1.1.2 (from aiohttp>=3.7.4.post0->web3)\n",
      "  Using cached aiosignal-1.3.1-py3-none-any.whl (7.6 kB)\n",
      "Collecting parsimonious<0.10.0,>=0.9.0 (from eth-abi>=4.0.0->web3)\n",
      "  Using cached parsimonious-0.9.0.tar.gz (48 kB)\n",
      "  Installing build dependencies: started\n",
      "  Installing build dependencies: finished with status 'done'\n",
      "  Getting requirements to build wheel: started\n",
      "  Getting requirements to build wheel: finished with status 'done'\n",
      "  Preparing metadata (pyproject.toml): started\n",
      "  Preparing metadata (pyproject.toml): finished with status 'done'\n",
      "Collecting bitarray>=2.4.0 (from eth-account>=0.8.0->web3)\n",
      "  Downloading bitarray-2.8.4-cp311-cp311-win_amd64.whl (122 kB)\n",
      "                                              0.0/122.7 kB ? eta -:--:--\n",
      "     ---------                             30.7/122.7 kB 660.6 kB/s eta 0:00:01\n",
      "     ------------------                    61.4/122.7 kB 656.4 kB/s eta 0:00:01\n",
      "     ---------------------------           92.2/122.7 kB 655.4 kB/s eta 0:00:01\n",
      "     ------------------------------------ 122.7/122.7 kB 653.8 kB/s eta 0:00:00\n",
      "Collecting eth-keyfile>=0.6.0 (from eth-account>=0.8.0->web3)\n",
      "  Downloading eth_keyfile-0.7.0-py3-none-any.whl (7.4 kB)\n",
      "Collecting eth-keys>=0.4.0 (from eth-account>=0.8.0->web3)\n",
      "  Using cached eth_keys-0.4.0-py3-none-any.whl (21 kB)\n",
      "Collecting eth-rlp>=0.3.0 (from eth-account>=0.8.0->web3)\n",
      "  Downloading eth_rlp-1.0.0-py3-none-any.whl (4.9 kB)\n",
      "Collecting rlp>=1.0.0 (from eth-account>=0.8.0->web3)\n",
      "  Using cached rlp-4.0.0-py3-none-any.whl (20 kB)\n",
      "Collecting pycryptodome<4,>=3.6.6 (from eth-hash[pycryptodome]>=0.5.1->web3)\n",
      "  Using cached pycryptodome-3.19.0-cp35-abi3-win_amd64.whl (1.7 MB)\n",
      "Collecting cytoolz>=0.10.1 (from eth-utils>=2.1.0->web3)\n",
      "  Downloading cytoolz-0.12.2-cp311-cp311-win_amd64.whl (365 kB)\n",
      "                                              0.0/365.8 kB ? eta -:--:--\n",
      "     -                                        10.2/365.8 kB ? eta -:--:--\n",
      "     ---                                   30.7/365.8 kB 435.7 kB/s eta 0:00:01\n",
      "     ----                                  41.0/365.8 kB 281.8 kB/s eta 0:00:02\n",
      "     --------                              81.9/365.8 kB 416.7 kB/s eta 0:00:01\n",
      "     ---------                             92.2/365.8 kB 403.5 kB/s eta 0:00:01\n",
      "     -----------                          112.6/365.8 kB 437.6 kB/s eta 0:00:01\n",
      "     -----------                          112.6/365.8 kB 437.6 kB/s eta 0:00:01\n",
      "     ------------                         122.9/365.8 kB 327.4 kB/s eta 0:00:01\n",
      "     ----------------                     163.8/365.8 kB 392.8 kB/s eta 0:00:01\n",
      "     --------------------                 204.8/365.8 kB 429.5 kB/s eta 0:00:01\n",
      "     ----------------------               225.3/365.8 kB 444.3 kB/s eta 0:00:01\n",
      "     ---------------------------          276.5/365.8 kB 501.4 kB/s eta 0:00:01\n",
      "     -----------------------------------  358.4/365.8 kB 602.4 kB/s eta 0:00:01\n",
      "     ------------------------------------ 365.8/365.8 kB 598.6 kB/s eta 0:00:00\n",
      "Collecting jsonschema-specifications>=2023.03.6 (from jsonschema>=4.0.0->web3)\n",
      "  Using cached jsonschema_specifications-2023.11.2-py3-none-any.whl (17 kB)\n",
      "Collecting referencing>=0.28.4 (from jsonschema>=4.0.0->web3)\n",
      "  Downloading referencing-0.32.0-py3-none-any.whl (26 kB)\n",
      "Collecting rpds-py>=0.7.1 (from jsonschema>=4.0.0->web3)\n",
      "  Downloading rpds_py-0.13.2-cp311-none-win_amd64.whl (188 kB)\n",
      "                                              0.0/188.7 kB ? eta -:--:--\n",
      "     --------------                          71.7/188.7 kB 2.0 MB/s eta 0:00:01\n",
      "     ------------------------------         153.6/188.7 kB 1.8 MB/s eta 0:00:01\n",
      "     -------------------------------------- 188.7/188.7 kB 1.9 MB/s eta 0:00:00\n",
      "Collecting charset-normalizer<4,>=2 (from requests>=2.16.0->web3)\n",
      "  Downloading charset_normalizer-3.3.2-cp311-cp311-win_amd64.whl (99 kB)\n",
      "                                              0.0/99.9 kB ? eta -:--:--\n",
      "     ------------------------                 61.4/99.9 kB 1.7 MB/s eta 0:00:01\n",
      "     ---------------------------------------- 99.9/99.9 kB 1.9 MB/s eta 0:00:00\n",
      "Collecting idna<4,>=2.5 (from requests>=2.16.0->web3)\n",
      "  Downloading idna-3.6-py3-none-any.whl (61 kB)\n",
      "                                              0.0/61.6 kB ? eta -:--:--\n",
      "     ---------------------------------------- 61.6/61.6 kB 1.6 MB/s eta 0:00:00\n",
      "Collecting urllib3<3,>=1.21.1 (from requests>=2.16.0->web3)\n",
      "  Downloading urllib3-2.1.0-py3-none-any.whl (104 kB)\n",
      "                                              0.0/104.6 kB ? eta -:--:--\n",
      "     ----------------------                  61.4/104.6 kB 1.7 MB/s eta 0:00:01\n",
      "     -------------------------------------- 104.6/104.6 kB 1.5 MB/s eta 0:00:00\n",
      "Collecting certifi>=2017.4.17 (from requests>=2.16.0->web3)\n",
      "  Downloading certifi-2023.11.17-py3-none-any.whl (162 kB)\n",
      "                                              0.0/162.5 kB ? eta -:--:--\n",
      "     ----------------------                  92.2/162.5 kB 2.6 MB/s eta 0:00:01\n",
      "     -------------------------------------- 162.5/162.5 kB 2.0 MB/s eta 0:00:00\n",
      "Collecting toolz>=0.8.0 (from cytoolz>=0.10.1->eth-utils>=2.1.0->web3)\n",
      "  Downloading toolz-0.12.0-py3-none-any.whl (55 kB)\n",
      "                                              0.0/55.8 kB ? eta -:--:--\n",
      "     ---------------------------------------- 55.8/55.8 kB 2.8 MB/s eta 0:00:00\n",
      "Collecting regex>=2022.3.15 (from parsimonious<0.10.0,>=0.9.0->eth-abi>=4.0.0->web3)\n",
      "  Downloading regex-2023.10.3-cp311-cp311-win_amd64.whl (269 kB)\n",
      "                                              0.0/269.6 kB ? eta -:--:--\n",
      "     ----------                              71.7/269.6 kB 4.1 MB/s eta 0:00:01\n",
      "     -------------------------------        225.3/269.6 kB 2.3 MB/s eta 0:00:01\n",
      "     ------------------------------------   256.0/269.6 kB 2.3 MB/s eta 0:00:01\n",
      "     ------------------------------------   256.0/269.6 kB 2.3 MB/s eta 0:00:01\n",
      "     ------------------------------------   256.0/269.6 kB 2.3 MB/s eta 0:00:01\n",
      "     ------------------------------------   256.0/269.6 kB 2.3 MB/s eta 0:00:01\n",
      "     ------------------------------------   256.0/269.6 kB 2.3 MB/s eta 0:00:01\n",
      "     ------------------------------------   256.0/269.6 kB 2.3 MB/s eta 0:00:01\n",
      "     ------------------------------------   256.0/269.6 kB 2.3 MB/s eta 0:00:01\n",
      "     ------------------------------------ 269.6/269.6 kB 593.4 kB/s eta 0:00:00\n",
      "Building wheels for collected packages: pyunormalize, parsimonious\n",
      "  Building wheel for pyunormalize (pyproject.toml): started\n",
      "  Building wheel for pyunormalize (pyproject.toml): finished with status 'done'\n",
      "  Created wheel for pyunormalize: filename=pyunormalize-15.1.0-py3-none-any.whl size=516050 sha256=29f74d22b5b616decb3e617f5d5892b43ec8315f899803b5d5f818d5f3ee9ebc\n",
      "  Stored in directory: c:\\users\\sofiane\\appdata\\local\\pip\\cache\\wheels\\07\\4e\\a1\\96ad639a4f1f708e8ccf733b63783ef98e994b1c0e54599ca2\n",
      "  Building wheel for parsimonious (pyproject.toml): started\n",
      "  Building wheel for parsimonious (pyproject.toml): finished with status 'done'\n",
      "  Created wheel for parsimonious: filename=parsimonious-0.9.0-py3-none-any.whl size=44377 sha256=c8e95c5b303353f37d44941507d211f4e12f91ea60f27ab5850c1b3c0b6ea4de\n",
      "  Stored in directory: c:\\users\\sofiane\\appdata\\local\\pip\\cache\\wheels\\db\\16\\e0\\c40eca39b83917346593961de03dfc6dbb208ed07ba56afec8\n",
      "Successfully built pyunormalize parsimonious\n",
      "Installing collected packages: lru-dict, bitarray, websockets, urllib3, typing-extensions, toolz, rpds-py, regex, pyunormalize, pycryptodome, protobuf, multidict, idna, hexbytes, frozenlist, eth-hash, charset-normalizer, certifi, attrs, yarl, requests, referencing, parsimonious, eth-typing, cytoolz, aiosignal, jsonschema-specifications, eth-utils, aiohttp, rlp, jsonschema, eth-keys, eth-abi, eth-rlp, eth-keyfile, eth-account, web3\n",
      "Successfully installed aiohttp-3.9.1 aiosignal-1.3.1 attrs-23.1.0 bitarray-2.8.4 certifi-2023.11.17 charset-normalizer-3.3.2 cytoolz-0.12.2 eth-abi-4.2.1 eth-account-0.10.0 eth-hash-0.5.2 eth-keyfile-0.7.0 eth-keys-0.4.0 eth-rlp-1.0.0 eth-typing-3.5.2 eth-utils-2.3.1 frozenlist-1.4.0 hexbytes-0.3.1 idna-3.6 jsonschema-4.20.0 jsonschema-specifications-2023.11.2 lru-dict-1.2.0 multidict-6.0.4 parsimonious-0.9.0 protobuf-4.25.1 pycryptodome-3.19.0 pyunormalize-15.1.0 referencing-0.32.0 regex-2023.10.3 requests-2.31.0 rlp-4.0.0 rpds-py-0.13.2 toolz-0.12.0 typing-extensions-4.8.0 urllib3-2.1.0 web3-6.11.4 websockets-12.0 yarl-1.9.4\n"
     ]
    },
    {
     "name": "stderr",
     "output_type": "stream",
     "text": [
      "\n",
      "[notice] A new release of pip is available: 23.1.2 -> 23.3.1\n",
      "[notice] To update, run: python.exe -m pip install --upgrade pip\n"
     ]
    }
   ],
   "source": [
    "!pip install web3"
   ]
  },
  {
   "cell_type": "code",
   "execution_count": 2,
   "metadata": {},
   "outputs": [
    {
     "name": "stdout",
     "output_type": "stream",
     "text": [
      "Collecting jsonschema==3.2.0\n",
      "  Using cached jsonschema-3.2.0-py2.py3-none-any.whl (56 kB)\n",
      "Collecting attrs>=17.4.0 (from jsonschema==3.2.0)\n",
      "  Using cached attrs-23.1.0-py3-none-any.whl (61 kB)\n",
      "Collecting pyrsistent>=0.14.0 (from jsonschema==3.2.0)\n",
      "  Downloading pyrsistent-0.20.0-cp311-cp311-win_amd64.whl (63 kB)\n",
      "                                              0.0/63.3 kB ? eta -:--:--\n",
      "     -------------------                      30.7/63.3 kB 1.4 MB/s eta 0:00:01\n",
      "     ------------------------------------   61.4/63.3 kB 656.4 kB/s eta 0:00:01\n",
      "     -------------------------------------- 63.3/63.3 kB 680.3 kB/s eta 0:00:00\n",
      "Collecting setuptools (from jsonschema==3.2.0)\n",
      "  Using cached setuptools-69.0.2-py3-none-any.whl (819 kB)\n",
      "Collecting six>=1.11.0 (from jsonschema==3.2.0)\n",
      "  Using cached six-1.16.0-py2.py3-none-any.whl (11 kB)\n",
      "Installing collected packages: six, setuptools, pyrsistent, attrs, jsonschema\n",
      "  Attempting uninstall: six\n",
      "    Found existing installation: six 1.16.0\n",
      "    Uninstalling six-1.16.0:\n",
      "      Successfully uninstalled six-1.16.0\n",
      "  Attempting uninstall: setuptools\n",
      "    Found existing installation: setuptools 65.5.0\n",
      "    Uninstalling setuptools-65.5.0:\n",
      "      Successfully uninstalled setuptools-65.5.0\n",
      "  Attempting uninstall: attrs\n",
      "    Found existing installation: attrs 23.1.0\n",
      "    Uninstalling attrs-23.1.0:\n",
      "      Successfully uninstalled attrs-23.1.0\n",
      "  Attempting uninstall: jsonschema\n",
      "    Found existing installation: jsonschema 4.20.0\n",
      "    Uninstalling jsonschema-4.20.0:\n",
      "      Successfully uninstalled jsonschema-4.20.0\n",
      "Successfully installed attrs-23.1.0 jsonschema-3.2.0 pyrsistent-0.20.0 setuptools-69.0.2 six-1.16.0\n"
     ]
    },
    {
     "name": "stderr",
     "output_type": "stream",
     "text": [
      "ERROR: pip's dependency resolver does not currently take into account all the packages that are installed. This behaviour is the source of the following dependency conflicts.\n",
      "web3 6.11.4 requires jsonschema>=4.0.0, but you have jsonschema 3.2.0 which is incompatible.\n",
      "\n",
      "[notice] A new release of pip is available: 23.1.2 -> 23.3.1\n",
      "[notice] To update, run: python.exe -m pip install --upgrade pip\n"
     ]
    }
   ],
   "source": [
    "!pip install --force-reinstall jsonschema==3.2.0"
   ]
  },
  {
   "cell_type": "code",
   "execution_count": 6,
   "metadata": {},
   "outputs": [],
   "source": [
    "from web3 import Web3"
   ]
  },
  {
   "cell_type": "markdown",
   "metadata": {},
   "source": [
    "- On vérifie qu'on bien importé le package"
   ]
  },
  {
   "cell_type": "code",
   "execution_count": 7,
   "metadata": {},
   "outputs": [
    {
     "data": {
      "text/plain": [
       "web3.main.Web3"
      ]
     },
     "execution_count": 7,
     "metadata": {},
     "output_type": "execute_result"
    }
   ],
   "source": [
    "Web3"
   ]
  },
  {
   "cell_type": "markdown",
   "metadata": {},
   "source": [
    "- J'ai déja déployé le contract sur remix avec mon compte MetaMask (différent de celui de Boutheina qu'on utilise d'habitude pour éviter tout conflit d'intéraction), d'ailleurs voici mon adresse : 0xada2E183e53E1DDe87D4b40f1f4C2877481a1Ca2 \n",
    "- Voici l'adresse du contract en question : 0x4b11999B58BCD87E666ED7fAdF207ae548E14A7c"
   ]
  },
  {
   "cell_type": "markdown",
   "metadata": {},
   "source": [
    "- On peut également installer eth_tester pour tester une connexion standard à une blockchain fictive"
   ]
  },
  {
   "cell_type": "code",
   "execution_count": 4,
   "metadata": {},
   "outputs": [
    {
     "name": "stdout",
     "output_type": "stream",
     "text": [
      "Collecting eth_tester\n",
      "  Downloading eth_tester-0.10.0b1-py3-none-any.whl (73 kB)\n",
      "                                              0.0/73.7 kB ? eta -:--:--\n",
      "     ----------------                         30.7/73.7 kB ? eta -:--:--\n",
      "     ----------------                         30.7/73.7 kB ? eta -:--:--\n",
      "     ---------------------                  41.0/73.7 kB 245.8 kB/s eta 0:00:01\n",
      "     -------------------------------------- 73.7/73.7 kB 449.8 kB/s eta 0:00:00\n",
      "Requirement already satisfied: eth-abi>=3.0.1 in c:\\users\\sofiane\\appdata\\local\\programs\\python\\python311\\lib\\site-packages (from eth_tester) (4.2.1)\n",
      "Requirement already satisfied: eth-account>=0.6.0 in c:\\users\\sofiane\\appdata\\local\\programs\\python\\python311\\lib\\site-packages (from eth_tester) (0.10.0)\n",
      "Requirement already satisfied: eth-keys>=0.4.0 in c:\\users\\sofiane\\appdata\\local\\programs\\python\\python311\\lib\\site-packages (from eth_tester) (0.4.0)\n",
      "Requirement already satisfied: eth-utils>=2.0.0 in c:\\users\\sofiane\\appdata\\local\\programs\\python\\python311\\lib\\site-packages (from eth_tester) (2.3.1)\n",
      "Requirement already satisfied: rlp>=3.0.0 in c:\\users\\sofiane\\appdata\\local\\programs\\python\\python311\\lib\\site-packages (from eth_tester) (4.0.0)\n",
      "Collecting semantic-version>=2.6.0 (from eth_tester)\n",
      "  Downloading semantic_version-2.10.0-py2.py3-none-any.whl (15 kB)\n",
      "Requirement already satisfied: eth-typing>=3.0.0 in c:\\users\\sofiane\\appdata\\local\\programs\\python\\python311\\lib\\site-packages (from eth-abi>=3.0.1->eth_tester) (3.5.2)\n",
      "Requirement already satisfied: parsimonious<0.10.0,>=0.9.0 in c:\\users\\sofiane\\appdata\\local\\programs\\python\\python311\\lib\\site-packages (from eth-abi>=3.0.1->eth_tester) (0.9.0)\n",
      "Requirement already satisfied: bitarray>=2.4.0 in c:\\users\\sofiane\\appdata\\local\\programs\\python\\python311\\lib\\site-packages (from eth-account>=0.6.0->eth_tester) (2.8.4)\n",
      "Requirement already satisfied: eth-keyfile>=0.6.0 in c:\\users\\sofiane\\appdata\\local\\programs\\python\\python311\\lib\\site-packages (from eth-account>=0.6.0->eth_tester) (0.7.0)\n",
      "Requirement already satisfied: eth-rlp>=0.3.0 in c:\\users\\sofiane\\appdata\\local\\programs\\python\\python311\\lib\\site-packages (from eth-account>=0.6.0->eth_tester) (1.0.0)\n",
      "Requirement already satisfied: hexbytes<0.4.0,>=0.1.0 in c:\\users\\sofiane\\appdata\\local\\programs\\python\\python311\\lib\\site-packages (from eth-account>=0.6.0->eth_tester) (0.3.1)\n",
      "Requirement already satisfied: eth-hash>=0.3.1 in c:\\users\\sofiane\\appdata\\local\\programs\\python\\python311\\lib\\site-packages (from eth-utils>=2.0.0->eth_tester) (0.5.2)\n",
      "Requirement already satisfied: cytoolz>=0.10.1 in c:\\users\\sofiane\\appdata\\local\\programs\\python\\python311\\lib\\site-packages (from eth-utils>=2.0.0->eth_tester) (0.12.2)\n",
      "Requirement already satisfied: toolz>=0.8.0 in c:\\users\\sofiane\\appdata\\local\\programs\\python\\python311\\lib\\site-packages (from cytoolz>=0.10.1->eth-utils>=2.0.0->eth_tester) (0.12.0)\n",
      "Requirement already satisfied: pycryptodome<4,>=3.6.6 in c:\\users\\sofiane\\appdata\\local\\programs\\python\\python311\\lib\\site-packages (from eth-keyfile>=0.6.0->eth-account>=0.6.0->eth_tester) (3.19.0)\n",
      "Requirement already satisfied: typing-extensions>=4.0.1 in c:\\users\\sofiane\\appdata\\local\\programs\\python\\python311\\lib\\site-packages (from eth-typing>=3.0.0->eth-abi>=3.0.1->eth_tester) (4.8.0)\n",
      "Requirement already satisfied: regex>=2022.3.15 in c:\\users\\sofiane\\appdata\\local\\programs\\python\\python311\\lib\\site-packages (from parsimonious<0.10.0,>=0.9.0->eth-abi>=3.0.1->eth_tester) (2023.10.3)\n",
      "Installing collected packages: semantic-version, eth_tester\n",
      "Successfully installed eth_tester-0.10.0b1 semantic-version-2.10.0\n"
     ]
    },
    {
     "name": "stderr",
     "output_type": "stream",
     "text": [
      "\n",
      "[notice] A new release of pip is available: 23.1.2 -> 23.3.1\n",
      "[notice] To update, run: python.exe -m pip install --upgrade pip\n"
     ]
    }
   ],
   "source": [
    "!pip install eth_tester"
   ]
  },
  {
   "cell_type": "markdown",
   "metadata": {},
   "source": [
    "#### Etape 1 : Connexion au node et récupération du contract"
   ]
  },
  {
   "cell_type": "markdown",
   "metadata": {},
   "source": [
    "- Nous allons nous connecter au node RPC de la blockchain Testnet BSC (chainID: 97), le lien est fourni à partir du site : https://docs.bscscan.com/misc-tools-and-utilities/public-rpc-nodes\n",
    "- Par la suite, utiliser la methode HTTPProvider de Web3 et lui envoyer en paramétre cet url pour se connecter"
   ]
  },
  {
   "cell_type": "code",
   "execution_count": 8,
   "metadata": {},
   "outputs": [],
   "source": [
    "# Connexion au node de chainIdD : 97 de bscscan test net\n",
    "rpc_url = \"https://data-seed-prebsc-1-s1.binance.org:8545/\"\n",
    "web3 = Web3(Web3.HTTPProvider(rpc_url))"
   ]
  },
  {
   "cell_type": "code",
   "execution_count": 9,
   "metadata": {},
   "outputs": [
    {
     "data": {
      "text/plain": [
       "<web3.main.Web3 at 0x2609d431ad0>"
      ]
     },
     "execution_count": 9,
     "metadata": {},
     "output_type": "execute_result"
    }
   ],
   "source": [
    "web3"
   ]
  },
  {
   "cell_type": "markdown",
   "metadata": {},
   "source": [
    "- Maintenant qu'on s'est connecté sur le RPC node, nous allons chercher notre contract déployé et le sauvegarder dans une variable pour pouvoir ensuite le manipuler et appeler ses fonctions.\n",
    "- Pour se faire, nous avons besoin de l'adresse du contract déployé sur bnb test net et aussi de l'ABI du script après compilation. Ces paramétres seront directement extraits à partir de l'interface Remix puis on les passera à la methode concernée pour avoir le contract."
   ]
  },
  {
   "cell_type": "code",
   "execution_count": 10,
   "metadata": {},
   "outputs": [],
   "source": [
    "contract_address = \"0x4b11999B58BCD87E666ED7fAdF207ae548E14A7c\""
   ]
  },
  {
   "cell_type": "markdown",
   "metadata": {},
   "source": [
    "- Vu la structure de l'ABI les [  ] au debut et à la fin génaient qu'on j'avais créer la variable string avec double quotes (\"\"), et donc il a fallu la mettre entre trois ''' (comme pour doc string)"
   ]
  },
  {
   "cell_type": "code",
   "execution_count": 11,
   "metadata": {},
   "outputs": [],
   "source": [
    "contract_abi = '''[\n",
    "\t{\n",
    "\t\t\"inputs\": [\n",
    "\t\t\t{\n",
    "\t\t\t\t\"internalType\": \"string\",\n",
    "\t\t\t\t\"name\": \"_task\",\n",
    "\t\t\t\t\"type\": \"string\"\n",
    "\t\t\t},\n",
    "\t\t\t{\n",
    "\t\t\t\t\"internalType\": \"uint256\",\n",
    "\t\t\t\t\"name\": \"_deadline\",\n",
    "\t\t\t\t\"type\": \"uint256\"\n",
    "\t\t\t}\n",
    "\t\t],\n",
    "\t\t\"name\": \"addTask\",\n",
    "\t\t\"outputs\": [],\n",
    "\t\t\"stateMutability\": \"nonpayable\",\n",
    "\t\t\"type\": \"function\"\n",
    "\t},\n",
    "\t{\n",
    "\t\t\"inputs\": [\n",
    "\t\t\t{\n",
    "\t\t\t\t\"internalType\": \"uint256\",\n",
    "\t\t\t\t\"name\": \"_id\",\n",
    "\t\t\t\t\"type\": \"uint256\"\n",
    "\t\t\t}\n",
    "\t\t],\n",
    "\t\t\"name\": \"CheckOrUncheckTask\",\n",
    "\t\t\"outputs\": [],\n",
    "\t\t\"stateMutability\": \"nonpayable\",\n",
    "\t\t\"type\": \"function\"\n",
    "\t},\n",
    "\t{\n",
    "\t\t\"inputs\": [\n",
    "\t\t\t{\n",
    "\t\t\t\t\"internalType\": \"uint256\",\n",
    "\t\t\t\t\"name\": \"_id\",\n",
    "\t\t\t\t\"type\": \"uint256\"\n",
    "\t\t\t}\n",
    "\t\t],\n",
    "\t\t\"name\": \"removeTask\",\n",
    "\t\t\"outputs\": [],\n",
    "\t\t\"stateMutability\": \"nonpayable\",\n",
    "\t\t\"type\": \"function\"\n",
    "\t},\n",
    "\t{\n",
    "\t\t\"inputs\": [],\n",
    "\t\t\"stateMutability\": \"nonpayable\",\n",
    "\t\t\"type\": \"constructor\"\n",
    "\t},\n",
    "\t{\n",
    "\t\t\"anonymous\": false,\n",
    "\t\t\"inputs\": [\n",
    "\t\t\t{\n",
    "\t\t\t\t\"indexed\": false,\n",
    "\t\t\t\t\"internalType\": \"uint256\",\n",
    "\t\t\t\t\"name\": \"taskId\",\n",
    "\t\t\t\t\"type\": \"uint256\"\n",
    "\t\t\t},\n",
    "\t\t\t{\n",
    "\t\t\t\t\"indexed\": false,\n",
    "\t\t\t\t\"internalType\": \"string\",\n",
    "\t\t\t\t\"name\": \"taskDescription\",\n",
    "\t\t\t\t\"type\": \"string\"\n",
    "\t\t\t},\n",
    "\t\t\t{\n",
    "\t\t\t\t\"indexed\": false,\n",
    "\t\t\t\t\"internalType\": \"uint256\",\n",
    "\t\t\t\t\"name\": \"deadline\",\n",
    "\t\t\t\t\"type\": \"uint256\"\n",
    "\t\t\t}\n",
    "\t\t],\n",
    "\t\t\"name\": \"TaskCreated\",\n",
    "\t\t\"type\": \"event\"\n",
    "\t},\n",
    "\t{\n",
    "\t\t\"anonymous\": false,\n",
    "\t\t\"inputs\": [\n",
    "\t\t\t{\n",
    "\t\t\t\t\"indexed\": false,\n",
    "\t\t\t\t\"internalType\": \"uint256\",\n",
    "\t\t\t\t\"name\": \"taskId\",\n",
    "\t\t\t\t\"type\": \"uint256\"\n",
    "\t\t\t}\n",
    "\t\t],\n",
    "\t\t\"name\": \"TaskRemoved\",\n",
    "\t\t\"type\": \"event\"\n",
    "\t},\n",
    "\t{\n",
    "\t\t\"anonymous\": false,\n",
    "\t\t\"inputs\": [\n",
    "\t\t\t{\n",
    "\t\t\t\t\"indexed\": false,\n",
    "\t\t\t\t\"internalType\": \"uint256\",\n",
    "\t\t\t\t\"name\": \"taskId\",\n",
    "\t\t\t\t\"type\": \"uint256\"\n",
    "\t\t\t},\n",
    "\t\t\t{\n",
    "\t\t\t\t\"indexed\": false,\n",
    "\t\t\t\t\"internalType\": \"string\",\n",
    "\t\t\t\t\"name\": \"taskDescription\",\n",
    "\t\t\t\t\"type\": \"string\"\n",
    "\t\t\t},\n",
    "\t\t\t{\n",
    "\t\t\t\t\"indexed\": false,\n",
    "\t\t\t\t\"internalType\": \"uint256\",\n",
    "\t\t\t\t\"name\": \"deadline\",\n",
    "\t\t\t\t\"type\": \"uint256\"\n",
    "\t\t\t}\n",
    "\t\t],\n",
    "\t\t\"name\": \"TaskUpdated\",\n",
    "\t\t\"type\": \"event\"\n",
    "\t},\n",
    "\t{\n",
    "\t\t\"inputs\": [\n",
    "\t\t\t{\n",
    "\t\t\t\t\"internalType\": \"uint256\",\n",
    "\t\t\t\t\"name\": \"_id\",\n",
    "\t\t\t\t\"type\": \"uint256\"\n",
    "\t\t\t},\n",
    "\t\t\t{\n",
    "\t\t\t\t\"internalType\": \"string\",\n",
    "\t\t\t\t\"name\": \"_task\",\n",
    "\t\t\t\t\"type\": \"string\"\n",
    "\t\t\t},\n",
    "\t\t\t{\n",
    "\t\t\t\t\"internalType\": \"uint256\",\n",
    "\t\t\t\t\"name\": \"_deadline\",\n",
    "\t\t\t\t\"type\": \"uint256\"\n",
    "\t\t\t}\n",
    "\t\t],\n",
    "\t\t\"name\": \"updateTask\",\n",
    "\t\t\"outputs\": [],\n",
    "\t\t\"stateMutability\": \"nonpayable\",\n",
    "\t\t\"type\": \"function\"\n",
    "\t},\n",
    "\t{\n",
    "\t\t\"inputs\": [],\n",
    "\t\t\"name\": \"count\",\n",
    "\t\t\"outputs\": [\n",
    "\t\t\t{\n",
    "\t\t\t\t\"internalType\": \"uint256\",\n",
    "\t\t\t\t\"name\": \"\",\n",
    "\t\t\t\t\"type\": \"uint256\"\n",
    "\t\t\t}\n",
    "\t\t],\n",
    "\t\t\"stateMutability\": \"view\",\n",
    "\t\t\"type\": \"function\"\n",
    "\t},\n",
    "\t{\n",
    "\t\t\"inputs\": [],\n",
    "\t\t\"name\": \"getOverdueTodos\",\n",
    "\t\t\"outputs\": [\n",
    "\t\t\t{\n",
    "\t\t\t\t\"components\": [\n",
    "\t\t\t\t\t{\n",
    "\t\t\t\t\t\t\"internalType\": \"string\",\n",
    "\t\t\t\t\t\t\"name\": \"Task\",\n",
    "\t\t\t\t\t\t\"type\": \"string\"\n",
    "\t\t\t\t\t},\n",
    "\t\t\t\t\t{\n",
    "\t\t\t\t\t\t\"internalType\": \"bool\",\n",
    "\t\t\t\t\t\t\"name\": \"isCompleted\",\n",
    "\t\t\t\t\t\t\"type\": \"bool\"\n",
    "\t\t\t\t\t},\n",
    "\t\t\t\t\t{\n",
    "\t\t\t\t\t\t\"internalType\": \"uint256\",\n",
    "\t\t\t\t\t\t\"name\": \"deadline\",\n",
    "\t\t\t\t\t\t\"type\": \"uint256\"\n",
    "\t\t\t\t\t}\n",
    "\t\t\t\t],\n",
    "\t\t\t\t\"internalType\": \"struct ToDoList.TaskToDo[]\",\n",
    "\t\t\t\t\"name\": \"\",\n",
    "\t\t\t\t\"type\": \"tuple[]\"\n",
    "\t\t\t}\n",
    "\t\t],\n",
    "\t\t\"stateMutability\": \"view\",\n",
    "\t\t\"type\": \"function\"\n",
    "\t},\n",
    "\t{\n",
    "\t\t\"inputs\": [\n",
    "\t\t\t{\n",
    "\t\t\t\t\"internalType\": \"uint256\",\n",
    "\t\t\t\t\"name\": \"_id\",\n",
    "\t\t\t\t\"type\": \"uint256\"\n",
    "\t\t\t}\n",
    "\t\t],\n",
    "\t\t\"name\": \"getTask\",\n",
    "\t\t\"outputs\": [\n",
    "\t\t\t{\n",
    "\t\t\t\t\"components\": [\n",
    "\t\t\t\t\t{\n",
    "\t\t\t\t\t\t\"internalType\": \"string\",\n",
    "\t\t\t\t\t\t\"name\": \"Task\",\n",
    "\t\t\t\t\t\t\"type\": \"string\"\n",
    "\t\t\t\t\t},\n",
    "\t\t\t\t\t{\n",
    "\t\t\t\t\t\t\"internalType\": \"bool\",\n",
    "\t\t\t\t\t\t\"name\": \"isCompleted\",\n",
    "\t\t\t\t\t\t\"type\": \"bool\"\n",
    "\t\t\t\t\t},\n",
    "\t\t\t\t\t{\n",
    "\t\t\t\t\t\t\"internalType\": \"uint256\",\n",
    "\t\t\t\t\t\t\"name\": \"deadline\",\n",
    "\t\t\t\t\t\t\"type\": \"uint256\"\n",
    "\t\t\t\t\t}\n",
    "\t\t\t\t],\n",
    "\t\t\t\t\"internalType\": \"struct ToDoList.TaskToDo\",\n",
    "\t\t\t\t\"name\": \"\",\n",
    "\t\t\t\t\"type\": \"tuple\"\n",
    "\t\t\t}\n",
    "\t\t],\n",
    "\t\t\"stateMutability\": \"view\",\n",
    "\t\t\"type\": \"function\"\n",
    "\t},\n",
    "\t{\n",
    "\t\t\"inputs\": [],\n",
    "\t\t\"name\": \"getUpcomingTodos\",\n",
    "\t\t\"outputs\": [\n",
    "\t\t\t{\n",
    "\t\t\t\t\"components\": [\n",
    "\t\t\t\t\t{\n",
    "\t\t\t\t\t\t\"internalType\": \"string\",\n",
    "\t\t\t\t\t\t\"name\": \"Task\",\n",
    "\t\t\t\t\t\t\"type\": \"string\"\n",
    "\t\t\t\t\t},\n",
    "\t\t\t\t\t{\n",
    "\t\t\t\t\t\t\"internalType\": \"bool\",\n",
    "\t\t\t\t\t\t\"name\": \"isCompleted\",\n",
    "\t\t\t\t\t\t\"type\": \"bool\"\n",
    "\t\t\t\t\t},\n",
    "\t\t\t\t\t{\n",
    "\t\t\t\t\t\t\"internalType\": \"uint256\",\n",
    "\t\t\t\t\t\t\"name\": \"deadline\",\n",
    "\t\t\t\t\t\t\"type\": \"uint256\"\n",
    "\t\t\t\t\t}\n",
    "\t\t\t\t],\n",
    "\t\t\t\t\"internalType\": \"struct ToDoList.TaskToDo[]\",\n",
    "\t\t\t\t\"name\": \"\",\n",
    "\t\t\t\t\"type\": \"tuple[]\"\n",
    "\t\t\t}\n",
    "\t\t],\n",
    "\t\t\"stateMutability\": \"view\",\n",
    "\t\t\"type\": \"function\"\n",
    "\t},\n",
    "\t{\n",
    "\t\t\"inputs\": [\n",
    "\t\t\t{\n",
    "\t\t\t\t\"internalType\": \"uint256\",\n",
    "\t\t\t\t\"name\": \"\",\n",
    "\t\t\t\t\"type\": \"uint256\"\n",
    "\t\t\t}\n",
    "\t\t],\n",
    "\t\t\"name\": \"List\",\n",
    "\t\t\"outputs\": [\n",
    "\t\t\t{\n",
    "\t\t\t\t\"internalType\": \"string\",\n",
    "\t\t\t\t\"name\": \"Task\",\n",
    "\t\t\t\t\"type\": \"string\"\n",
    "\t\t\t},\n",
    "\t\t\t{\n",
    "\t\t\t\t\"internalType\": \"bool\",\n",
    "\t\t\t\t\"name\": \"isCompleted\",\n",
    "\t\t\t\t\"type\": \"bool\"\n",
    "\t\t\t},\n",
    "\t\t\t{\n",
    "\t\t\t\t\"internalType\": \"uint256\",\n",
    "\t\t\t\t\"name\": \"deadline\",\n",
    "\t\t\t\t\"type\": \"uint256\"\n",
    "\t\t\t}\n",
    "\t\t],\n",
    "\t\t\"stateMutability\": \"view\",\n",
    "\t\t\"type\": \"function\"\n",
    "\t},\n",
    "\t{\n",
    "\t\t\"inputs\": [],\n",
    "\t\t\"name\": \"owner\",\n",
    "\t\t\"outputs\": [\n",
    "\t\t\t{\n",
    "\t\t\t\t\"internalType\": \"address\",\n",
    "\t\t\t\t\"name\": \"\",\n",
    "\t\t\t\t\"type\": \"address\"\n",
    "\t\t\t}\n",
    "\t\t],\n",
    "\t\t\"stateMutability\": \"view\",\n",
    "\t\t\"type\": \"function\"\n",
    "\t}\n",
    "]'''"
   ]
  },
  {
   "cell_type": "code",
   "execution_count": 12,
   "metadata": {},
   "outputs": [],
   "source": [
    "contract = web3.eth.contract(address=contract_address, abi=contract_abi)"
   ]
  },
  {
   "cell_type": "code",
   "execution_count": 13,
   "metadata": {},
   "outputs": [
    {
     "data": {
      "text/plain": [
       "<web3._utils.datatypes.Contract at 0x2609d43f450>"
      ]
     },
     "execution_count": 13,
     "metadata": {},
     "output_type": "execute_result"
    }
   ],
   "source": [
    "contract"
   ]
  },
  {
   "cell_type": "markdown",
   "metadata": {},
   "source": [
    "- A présent, nous avons acquérit notre contract ! "
   ]
  },
  {
   "cell_type": "markdown",
   "metadata": {},
   "source": [
    "#### Etape 2 : Intéraction et manipulation du contract en faisant appel aux fonctions définies"
   ]
  },
  {
   "cell_type": "markdown",
   "metadata": {},
   "source": [
    "- Pour pouvoir utiliser les fonctions du contract, nous devons envoyer des transactions qui doivent être signées avec notre clé privée.\n",
    "- J'ai déja extrait ma clé privé de mon compte MetaMask et je l'ai mise dans un fichier .txt que je vais exploiter pour extraire à nouveau cette clé dans mon code, sans la mettre explicitement dans mon code "
   ]
  },
  {
   "cell_type": "code",
   "execution_count": 2,
   "metadata": {},
   "outputs": [],
   "source": [
    "with open(\"MetaMaskPK.txt\", \"r\") as f:\n",
    "    private_key = f.read()"
   ]
  },
  {
   "cell_type": "markdown",
   "metadata": {},
   "source": [
    "- Maintenant, je vais essayer d'appeler la fonction addTask() pour rajouter une nouvelle tache et vérifier par la suite si elle s'est bien executer et que la transaction est bien passée\n",
    "- Nous devons d'abord créer la transaction en utilisant la methode buildtransaction, puis on l'a fait signer grace à notre clé privée et enfin on envoie la transaction signée grace à méthode sendRawTransaction\n",
    "- Pour créer une tache, je dois non seulement lui donner un nom mais aussi rajouter sa deadline avec le format Unix Time Stamp en utilisant le site : https://www.unixtimestamp.com/ \n",
    "- Je vais ajouter comme tache ce DM actuel que je dois rendre avant minuit :) "
   ]
  },
  {
   "cell_type": "markdown",
   "metadata": {},
   "source": [
    "![Image](Capture.png)"
   ]
  },
  {
   "cell_type": "markdown",
   "metadata": {},
   "source": [
    "- Afin d'envoyer la transaction, on peut spécifier explicitement l'adresse du compte from qui va envoyer cette transaction lorsqu'on créer la fonction dans l'argument \"from\" , comme on peut aussi setter le compte par défault à notre adresse sans avoir à spécifier ensuite cette adresse en argument grace à la méthode web3.eth.defaultAccount "
   ]
  },
  {
   "cell_type": "code",
   "execution_count": 17,
   "metadata": {},
   "outputs": [],
   "source": [
    "web3.eth.defaultAccount = web3.to_checksum_address(\"0xada2E183e53E1DDe87D4b40f1f4C2877481a1Ca2\")\n",
    "task_name = \"Envoyer le DM Web3\"\n",
    "task_deadline =1701989999"
   ]
  },
  {
   "cell_type": "code",
   "execution_count": 23,
   "metadata": {},
   "outputs": [],
   "source": [
    "def addTask(task_name,task_deadline):\n",
    "\n",
    "    # Construction de la transaction\n",
    "    transaction = contract.functions.addTask(task_name,task_deadline).build_transaction(\n",
    "        {\n",
    "            \"gasPrice\": web3.eth.gas_price,\n",
    "            \"chainId\": web3.eth.chain_id,\n",
    "            \"from\": web3.to_checksum_address(\"0xada2E183e53E1DDe87D4b40f1f4C2877481a1Ca2\"),\n",
    "            \"nonce\": web3.eth.get_transaction_count(web3.to_checksum_address(\"0xada2E183e53E1DDe87D4b40f1f4C2877481a1Ca2\"))\n",
    "        }\n",
    "    )\n",
    "\n",
    "    # Signature de la transaction avec la clé privée\n",
    "    signed_transaction = web3.eth.account.sign_transaction(transaction, private_key)\n",
    "\n",
    "    # Envoi de la transaction signée et récupération du hachage de la transaction\n",
    "    transaction_hash = web3.eth.send_raw_transaction(signed_transaction.rawTransaction)\n",
    "    transaction_receipt = web3.eth.wait_for_transaction_receipt(transaction_hash)\n",
    "   \n",
    "   \n",
    "    return transaction_hash"
   ]
  },
  {
   "cell_type": "markdown",
   "metadata": {},
   "source": [
    "- Finalement en omettant l'argument from j'ai reçu un message d'erreur disant que seul le owner du contract peut executer cette tache, alors que c'est la même adresse bizarrement, donc j'ai fini par rajouter cela explicitement"
   ]
  },
  {
   "cell_type": "code",
   "execution_count": 24,
   "metadata": {},
   "outputs": [
    {
     "data": {
      "text/plain": [
       "HexBytes('0xe54f1fd1b8e3d27b466f92ce2dfe8011d0087824d9d24e841fee8f8763fa6061')"
      ]
     },
     "execution_count": 24,
     "metadata": {},
     "output_type": "execute_result"
    }
   ],
   "source": [
    "addTask(task_name=task_name,task_deadline=task_deadline)"
   ]
  },
  {
   "cell_type": "markdown",
   "metadata": {},
   "source": [
    "La transaction est belle et bien passée, on a obtenu son hash et on peut vérifier sur bnb test au niveau des transaction du contract qu'une transaction addTask s'est ajoutée et que son hash est identique à celui retourner par la fonction :\n",
    "\n",
    "![Image](Capture2.png)"
   ]
  },
  {
   "cell_type": "markdown",
   "metadata": {},
   "source": [
    "- Nous allons vérifier son contenu en appelant la fonction getTask(), ici nous n'aurons qu'à utiliser la methode call et non pas buildtransaction , étant donné que cette fonction getter n'est pas réellement une transaction lors de son appel"
   ]
  },
  {
   "cell_type": "code",
   "execution_count": 26,
   "metadata": {},
   "outputs": [],
   "source": [
    "def getTask(task_id):\n",
    "    return contract.functions.getTask(task_id).call()"
   ]
  },
  {
   "cell_type": "code",
   "execution_count": 27,
   "metadata": {},
   "outputs": [
    {
     "data": {
      "text/plain": [
       "('Envoyer le DM Web3', False, 1701989999)"
      ]
     },
     "execution_count": 27,
     "metadata": {},
     "output_type": "execute_result"
    }
   ],
   "source": [
    "getTask(0)"
   ]
  },
  {
   "cell_type": "markdown",
   "metadata": {},
   "source": [
    "- Et voila l'appel a bien marché !\n",
    "- Mais bon je ne sais pas lire la date format Unix Time Stamp donc je dois si je suis encore dans les temps pour cette tache ou si j'ai dépassé la deadline..."
   ]
  },
  {
   "cell_type": "code",
   "execution_count": 28,
   "metadata": {},
   "outputs": [],
   "source": [
    "def getUpcomingTodos():\n",
    "    return contract.functions.getUpcomingTodos().call()"
   ]
  },
  {
   "cell_type": "code",
   "execution_count": 29,
   "metadata": {},
   "outputs": [
    {
     "data": {
      "text/plain": [
       "[('Envoyer le DM Web3', False, 1701989999)]"
      ]
     },
     "execution_count": 29,
     "metadata": {},
     "output_type": "execute_result"
    }
   ],
   "source": [
    "getUpcomingTodos()"
   ]
  },
  {
   "cell_type": "markdown",
   "metadata": {},
   "source": [
    "- Apparrement ça va, je suis encore on time :)"
   ]
  },
  {
   "cell_type": "markdown",
   "metadata": {},
   "source": [
    "- Cependant, la tache est toujoutd false (pas encore cochée), étant donné que j'ai fini je vais créer la check grace à la fonction que je vais définir maintenant"
   ]
  },
  {
   "cell_type": "code",
   "execution_count": 30,
   "metadata": {},
   "outputs": [],
   "source": [
    "def CheckOrUncheckTask(task_id):\n",
    "    transaction = contract.functions.CheckOrUncheckTask(task_id).build_transaction(\n",
    "        {\n",
    "            \"gasPrice\": web3.eth.gas_price,\n",
    "            \"chainId\": web3.eth.chain_id,\n",
    "            \"from\": web3.to_checksum_address(\"0xada2E183e53E1DDe87D4b40f1f4C2877481a1Ca2\"),\n",
    "            \"nonce\": web3.eth.get_transaction_count(web3.to_checksum_address(\"0xada2E183e53E1DDe87D4b40f1f4C2877481a1Ca2\"))\n",
    "        }\n",
    "    )\n",
    "\n",
    "    # Signature de la transaction avec la clé privée\n",
    "    signed_transaction = web3.eth.account.sign_transaction(transaction, private_key)\n",
    "\n",
    "    # Envoi de la transaction signée et récupération du hachage de la transaction\n",
    "    transaction_hash = web3.eth.send_raw_transaction(signed_transaction.rawTransaction)\n",
    "    transaction_receipt = web3.eth.wait_for_transaction_receipt(transaction_hash)\n",
    "   \n",
    "   \n",
    "    return transaction_hash"
   ]
  },
  {
   "cell_type": "code",
   "execution_count": 31,
   "metadata": {},
   "outputs": [
    {
     "data": {
      "text/plain": [
       "HexBytes('0xab05c727a02b164be680ac2e232b01dc85254f38b2528ca1bc04150d9f6775f8')"
      ]
     },
     "execution_count": 31,
     "metadata": {},
     "output_type": "execute_result"
    }
   ],
   "source": [
    "CheckOrUncheckTask(0)"
   ]
  },
  {
   "cell_type": "markdown",
   "metadata": {},
   "source": [
    "- On va checker sur bnb testnet : \n",
    "\n",
    "![Image](Capture3.png)"
   ]
  },
  {
   "cell_type": "markdown",
   "metadata": {},
   "source": [
    "Vérifions à présent si ça a bien été checké : "
   ]
  },
  {
   "cell_type": "code",
   "execution_count": 32,
   "metadata": {},
   "outputs": [
    {
     "data": {
      "text/plain": [
       "('Envoyer le DM Web3', True, 1701989999)"
      ]
     },
     "execution_count": 32,
     "metadata": {},
     "output_type": "execute_result"
    }
   ],
   "source": [
    "getTask(0)"
   ]
  },
  {
   "cell_type": "markdown",
   "metadata": {},
   "source": [
    "ET VOILA DONE !"
   ]
  }
 ],
 "metadata": {
  "kernelspec": {
   "display_name": "base",
   "language": "python",
   "name": "python3"
  },
  "language_info": {
   "codemirror_mode": {
    "name": "ipython",
    "version": 3
   },
   "file_extension": ".py",
   "mimetype": "text/x-python",
   "name": "python",
   "nbconvert_exporter": "python",
   "pygments_lexer": "ipython3",
   "version": "3.11.4"
  }
 },
 "nbformat": 4,
 "nbformat_minor": 2
}
